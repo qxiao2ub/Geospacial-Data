{
 "cells": [
  {
   "cell_type": "markdown",
   "metadata": {},
   "source": [
    "# Plotting Geospatial Data\n",
    "## Introduction (temporary)\n",
    "“This notebook produces a map\n",
    "showing the average temperature of several U.S. cities, using data extracted from a file named city temperatures.xls. Each temperature value is represented as a colored circle, centered at the location of the appropriate city. The size of the circle is a function of the average temperature of that city (i.e., larger circles correspond to higher temperatures). Similarly, the color of each circle is a function of temperature, with warmer (cooler) temperatures tending towards red (blue). The numeric value of each city’s average temperature is also displayed within the circle.”\n",
    "\n",
    "\n",
    "## Instructions \n",
    "\n",
    "### Steps for installing the Mapping Service\n",
    "- Mapping Servie used: Plotly\n",
    "\n",
    "\n",
    "- Installation link: https://plot.ly/python/getting-started/\n",
    "\n",
    "### Steps for installing a Geocoder\n",
    "- Geocoder used: geopy\n",
    "    1. open terminal\n",
    "    2. type in command\n",
    "    ```\n",
    "    pip install geopy\n",
    "    ```\n",
    "- Documentation link:https://pypi.org/project/geopy/\n",
    "    \n",
    "### Other Useful Links\n",
    "- Read Excel file: https://stackoverflow.com/questions/22169325/read-excel-file-in-python\n",
    "\n",
    "\n"
   ]
  },
  {
   "cell_type": "code",
   "execution_count": 41,
   "metadata": {},
   "outputs": [
    {
     "name": "stdout",
     "output_type": "stream",
     "text": [
      "Index(['City', 'State', 'Avg Temp [degrees F]'], dtype='object')\n"
     ]
    }
   ],
   "source": [
    "# Read city.temperatures.xls file by using pandas\n",
    "\n",
    "import xlrd \n",
    "import pandas\n",
    "\n",
    "df = pandas.read_excel('city_temperatures.xls')\n",
    "\n",
    "#print the column names\n",
    "print(df.columns)\n"
   ]
  },
  {
   "cell_type": "code",
   "execution_count": 58,
   "metadata": {},
   "outputs": [
    {
     "name": "stdout",
     "output_type": "stream",
     "text": [
      "(-97.3375448, 37.6922361)\n",
      "(-122.3300624, 47.6038321)\n"
     ]
    }
   ],
   "source": [
    "# Testing geocode\n",
    "\n",
    "from geopy.geocoders import Nominatim\n",
    "geolocator = Nominatim(user_agent=\"specify_your_city_name_here\")\n",
    "\n",
    "location = geolocator.geocode('Wichita')\n",
    "city_long = location.longitude\n",
    "city_lati = location.latitude\n",
    "print((city_long, city_lati))\n",
    "\n",
    "location = geolocator.geocode('Seattle')\n",
    "city_long = location.longitude\n",
    "city_lati = location.latitude\n",
    "print((city_long, city_lati))\n"
   ]
  },
  {
   "cell_type": "code",
   "execution_count": 59,
   "metadata": {},
   "outputs": [],
   "source": [
    "# Geocoding each city\n",
    "# Obtain the longitude and latitude of each city\n",
    "# timeout = 10, to avoid timeout error in geopy\n",
    "\n",
    "from geopy.geocoders import Nominatim\n",
    "geolocator = Nominatim(user_agent=\"specify_your_app_name_here\", timeout=10)\n",
    "\n",
    "for i in df.City:\n",
    "    location = geolocator.geocode(i)\n",
    "    \n",
    "# print(i, location.longitude, location.latitude)\n",
    "    "
   ]
  },
  {
   "cell_type": "code",
   "execution_count": null,
   "metadata": {},
   "outputs": [],
   "source": [
    "# Plot cities on Map\n",
    "\n",
    "import plotly.graph_objects as go"
   ]
  },
  {
   "cell_type": "code",
   "execution_count": null,
   "metadata": {},
   "outputs": [],
   "source": []
  }
 ],
 "metadata": {
  "kernelspec": {
   "display_name": "Python 3",
   "language": "python",
   "name": "python3"
  },
  "language_info": {
   "codemirror_mode": {
    "name": "ipython",
    "version": 3
   },
   "file_extension": ".py",
   "mimetype": "text/x-python",
   "name": "python",
   "nbconvert_exporter": "python",
   "pygments_lexer": "ipython3",
   "version": "3.7.4"
  }
 },
 "nbformat": 4,
 "nbformat_minor": 2
}
