{
 "cells": [
  {
   "cell_type": "markdown",
   "metadata": {},
   "source": [
    "# Plotting Geospatial Data\n",
    "### Team Member: Ling Lin, Qingyang Xiao\n",
    "## Introduction\n",
    "“This notebook produces a map showing the average temperature of several U.S. cities, using data extracted from a file named city_temperatures.xls. Each temperature value is represented as a colored circle, centered at the location of the appropriate city. The size of the circle is a function of the average temperature of that city (i.e., larger circles correspond to higher temperatures). Similarly, the color of each circle is a function of temperature, with warmer (cooler) temperatures tending towards red (blue). The numeric value of each city’s average temperature is also displayed within the circle.”\n",
    "\n",
    "\n",
    "## Instructions \n",
    "\n",
    "### Steps for installing the Mapping Service\n",
    "- Mapping Servie used: Plotly\n",
    "    1. open terminal\n",
    "    2. type in command\n",
    "    ```\n",
    "    pip install plotly==4.5.0\n",
    "    ```\n",
    "\n",
    "- Installation link: https://plot.ly/python/getting-started/\n",
    "- Reference: https://plot.ly/python/styling-plotly-express/\n",
    "\n",
    "-        https://plot.ly/python/scatter-plots-on-maps/#base-map-configuration\n",
    "\n",
    "\n",
    "\n",
    "### Steps for installing a Geocoder\n",
    "- Geocoder used: geopy\n",
    "    1. open terminal\n",
    "    2. type in command\n",
    "    ```\n",
    "    pip install geopy\n",
    "    pip install xlrd\n",
    "    ```\n",
    "- Documentation link:https://pypi.org/project/geopy/\n",
    "    \n",
    "### Other Useful Links\n",
    "- Read Excel file: https://stackoverflow.com/questions/22169325/read-excel-file-in-python\n",
    "\n",
    "\n"
   ]
  },
  {
   "cell_type": "code",
   "execution_count": 73,
   "metadata": {},
   "outputs": [
    {
     "name": "stdout",
     "output_type": "stream",
     "text": [
      "Albuquerque, Bernalillo County, New Mexico, United States of America -106.6509851 35.0841034\n",
      "Baltimore, Maryland, 21203, United States of America -76.610759 39.2908816\n"
     ]
    }
   ],
   "source": [
    "# import Geocode & test\n",
    "\n",
    "from geopy.geocoders import Nominatim\n",
    "geolocator = Nominatim(user_agent=\"specify_your_city_name_here\")\n",
    "\n",
    "location = geolocator.geocode('Albuquerque')\n",
    "city_long = location.longitude\n",
    "city_lati = location.latitude\n",
    "print(location[0], city_long, city_lati)\n",
    "\n",
    "location = geolocator.geocode('Baltimore')\n",
    "city_long = location.longitude\n",
    "city_lati = location.latitude\n",
    "print(location[0], city_long, city_lati)"
   ]
  },
  {
   "cell_type": "code",
   "execution_count": 3,
   "metadata": {},
   "outputs": [
    {
     "name": "stdout",
     "output_type": "stream",
     "text": [
      "Index(['City', 'State', 'Avg Temp [degrees F]'], dtype='object')\n"
     ]
    }
   ],
   "source": [
    "# Read city.temperatures.xls file by using pandas\n",
    "\n",
    "import xlrd \n",
    "import pandas as pd\n",
    "\n",
    "data = pd.read_excel('city_temperatures.xls')\n",
    "\n",
    "#print the column names\n",
    "print(data.columns)\n",
    "#print(df)"
   ]
  },
  {
   "cell_type": "code",
   "execution_count": 11,
   "metadata": {
    "collapsed": true
   },
   "outputs": [
    {
     "name": "stdout",
     "output_type": "stream",
     "text": [
      "              City State  Avg Temp [degrees F]   longitude   latitude\n",
      "0      Albuquerque    NM                  57.2 -106.650985  35.084103\n",
      "1        Anchorage    AK                  37.1 -149.894852  61.216313\n",
      "2          Atlanta    GA                  62.3  -84.390185  33.749099\n",
      "3           Austin    TX                  69.3  -97.743700  30.271129\n",
      "4        Baltimore    MD                  55.6  -76.610759  39.290882\n",
      "5            Boise    ID                  52.5 -116.200886  43.616616\n",
      "6           Boston    MA                  51.7  -71.058291  42.360253\n",
      "7        Charlotte    NC                  60.9  -80.843127  35.227087\n",
      "8          Chicago    IL                  51.4  -87.624421  41.875562\n",
      "9         Columbus    OH                  53.0  -83.000707  39.962260\n",
      "10          Dallas    TX                  66.2  -96.796856  32.776272\n",
      "11          Denver    CO                  50.7 -104.965327  39.734838\n",
      "12         Detroit    MI                  50.0  -83.046640  42.331551\n",
      "13         El Paso    TX                  64.6 -106.464635  31.775415\n",
      "14       Fairbanks    AK                  27.9 -147.716675  64.837845\n",
      "15         Houston    TX                  69.4  -95.367697  29.758938\n",
      "16    Indianapolis    IN                  53.2  -86.158350  39.768333\n",
      "17    Jacksonville    FL                  68.5  -81.655651  30.332184\n",
      "18     Kansas City    MO                  54.5  -94.578142  39.100105\n",
      "19       Las Vegas    NV                  68.5 -115.148516  36.167256\n",
      "20     Los Angeles    CA                  63.3 -118.242767  34.053691\n",
      "21      Louisville    KY                  57.1  -85.759407  38.254238\n",
      "22         Memphis    TN                  63.0  -90.051629  35.149022\n",
      "23           Miami    FL                  76.9  -80.193659  25.774266\n",
      "24       Milwaukee    WI                  48.1  -87.922497  43.034993\n",
      "25     Minneapolis    MN                  46.1  -93.265469  44.977300\n",
      "26       Nashville    TN                  59.8  -86.774353  36.162230\n",
      "27     New Orleans    LA                  69.2  -90.070116  29.949932\n",
      "28   New York City    NY                  55.3  -74.006015  40.712728\n",
      "29   Oklahoma City    OK                  60.6  -97.517054  35.472989\n",
      "30           Omaha    NE                  51.1  -95.938376  41.258746\n",
      "31    Philadelphia   PA                   55.8  -75.163526  39.952724\n",
      "32         Phoenix    AZ                  75.0 -112.074142  33.448437\n",
      "33      Pittsburgh    PA                  51.4  -79.990086  40.441694\n",
      "34        Portland    OR                  54.4 -122.674195  45.520247\n",
      "35      Sacramento    CA                  61.3 -121.494400  38.581572\n",
      "36  Salt Lake City    UT                  52.9 -111.886798  40.759620\n",
      "37     San Antonio    TX                  69.5  -98.495141  29.424600\n",
      "38       San Diego    CA                  64.1 -117.162771  32.717421\n",
      "39   San Francisco    CA                  58.2 -122.419906  37.779026\n",
      "40         Seattle    WA                  52.4 -122.330062  47.603832\n",
      "41       St. Louis    MO                  57.0  -90.241117  38.652954\n",
      "42           Tampa    FL                  73.2  -82.458444  27.947760\n",
      "43          Tucson    AZ                  69.7 -110.974848  32.222876\n",
      "44  Virginia Beach    VA                  60.5  -75.977418  36.852984\n",
      "45         Wichita    KS                  57.0  -97.337545  37.692236\n"
     ]
    }
   ],
   "source": [
    "# Geocoding each city\n",
    "# Obtain the longitude and latitude of each city\n",
    "# timeout = 10, to avoid timeout error in geopy\n",
    "\n",
    "from geopy.geocoders import Nominatim\n",
    "geolocator = Nominatim(user_agent=\"specify_your_app_name_here\", timeout=10)\n",
    "\n",
    "df = pd.DataFrame(data)\n",
    "\n",
    "#empty list for longtitude & latitude save\n",
    "Listlongi = [] \n",
    "Listlati = []\n",
    "\n",
    "#append city longtitude & latitude\n",
    "for i in df['City']:\n",
    "    location = geolocator.geocode(i)\n",
    "    Listlongi.append(location.longitude)\n",
    "    Listlati.append(location.latitude)\n",
    "\n",
    "# add 2 new columns for longtitude & latitude of each city    \n",
    "df['longitude'] = Listlongi\n",
    "df['latitude'] = Listlati\n",
    "\n",
    "print(df) "
   ]
  },
  {
   "cell_type": "code",
   "execution_count": 87,
   "metadata": {},
   "outputs": [
    {
     "data": {
      "application/vnd.plotly.v1+json": {
       "config": {
        "plotlyServerURL": "https://plot.ly"
       },
       "data": [
        {
         "lat": [
          35.0841034,
          61.2163129,
          33.7490987,
          30.2711286,
          39.2908816,
          43.6166163,
          42.3602534,
          35.2270869,
          41.8755616,
          39.9622601,
          32.7762719,
          39.7348381,
          42.3315509,
          31.7754152,
          64.837845,
          29.7589382,
          39.7683331,
          30.3321838,
          39.100105,
          36.1672559,
          34.0536909,
          38.2542376,
          35.1490215,
          25.7742658,
          43.0349931,
          44.9772995,
          36.1622296,
          29.9499323,
          40.7127281,
          35.4729886,
          41.2587459,
          39.9527237,
          33.4484367,
          40.4416941,
          45.5202471,
          38.5815719,
          40.7596198,
          29.4246002,
          32.7174209,
          37.7790262,
          47.6038321,
          38.6529545,
          27.9477595,
          32.2228765,
          36.8529841,
          37.6922361
         ],
         "lon": [
          -106.6509851,
          -149.8948523,
          -84.3901849,
          -97.7436995,
          -76.610759,
          -116.200886,
          -71.0582912,
          -80.8431268,
          -87.6244212,
          -83.0007065,
          -96.7968559,
          -104.9653271,
          -83.0466403,
          -106.4646348,
          -147.716675,
          -95.3676974,
          -86.1583502,
          -81.655651,
          -94.5781416,
          -115.1485163,
          -118.2427666,
          -85.759407,
          -90.0516285,
          -80.1936589,
          -87.922497,
          -93.2654692,
          -86.7743531,
          -90.0701156,
          -74.0060152,
          -97.5170536,
          -95.9383758,
          -75.1635262,
          -112.0741417,
          -79.9900861,
          -122.6741949,
          -121.4943996,
          -111.8867975,
          -98.4951405,
          -117.1627714,
          -122.4199061,
          -122.3300624,
          -90.24111656024635,
          -82.458444,
          -110.9748477,
          -75.9774183,
          -97.3375448
         ],
         "marker": {
          "cmax": 76.9,
          "cmin": 27.9,
          "color": [
           57.2,
           37.1,
           62.3,
           69.3,
           55.6,
           52.5,
           51.7,
           60.9,
           51.4,
           53,
           66.2,
           50.7,
           50,
           64.6,
           27.9,
           69.4,
           53.2,
           68.5,
           54.5,
           68.5,
           63.3,
           57.1,
           63,
           76.9,
           48.1,
           46.1,
           59.8,
           69.2,
           55.3,
           60.6,
           51.1,
           55.8,
           75,
           51.4,
           54.4,
           61.3,
           52.9,
           69.5,
           64.1,
           58.2,
           52.4,
           57,
           73.2,
           69.7,
           60.5,
           57
          ],
          "colorbar": {
           "title": {
            "text": "Temperate Indicator"
           }
          },
          "colorscale": [
           [
            0,
            "rgb(165,0,38)"
           ],
           [
            0.1,
            "rgb(215,48,39)"
           ],
           [
            0.2,
            "rgb(244,109,67)"
           ],
           [
            0.3,
            "rgb(253,174,97)"
           ],
           [
            0.4,
            "rgb(254,224,144)"
           ],
           [
            0.5,
            "rgb(255,255,191)"
           ],
           [
            0.6,
            "rgb(224,243,248)"
           ],
           [
            0.7,
            "rgb(171,217,233)"
           ],
           [
            0.8,
            "rgb(116,173,209)"
           ],
           [
            0.9,
            "rgb(69,117,180)"
           ],
           [
            1,
            "rgb(49,54,149)"
           ]
          ],
          "opacity": 1,
          "reversescale": true,
          "size": [
           19.066666666666666,
           12.366666666666667,
           20.766666666666666,
           23.099999999999998,
           18.533333333333335,
           17.5,
           17.233333333333334,
           20.3,
           17.133333333333333,
           17.666666666666668,
           22.066666666666666,
           16.900000000000002,
           16.666666666666668,
           21.53333333333333,
           9.299999999999999,
           23.133333333333336,
           17.733333333333334,
           22.833333333333332,
           18.166666666666668,
           22.833333333333332,
           21.099999999999998,
           19.033333333333335,
           21,
           25.633333333333336,
           16.033333333333335,
           15.366666666666667,
           19.933333333333334,
           23.066666666666666,
           18.433333333333334,
           20.2,
           17.033333333333335,
           18.599999999999998,
           25,
           17.133333333333333,
           18.133333333333333,
           20.433333333333334,
           17.633333333333333,
           23.166666666666668,
           21.366666666666664,
           19.400000000000002,
           17.466666666666665,
           19,
           24.400000000000002,
           23.233333333333334,
           20.166666666666668,
           19
          ],
          "symbol": "circle"
         },
         "text": [
          "Albuquerque, NM, Temp: 57.2",
          "Anchorage, AK, Temp: 37.1",
          "Atlanta, GA, Temp: 62.3",
          "Austin, TX, Temp: 69.3",
          "Baltimore, MD, Temp: 55.6",
          "Boise, ID, Temp: 52.5",
          "Boston, MA, Temp: 51.7",
          "Charlotte, NC, Temp: 60.9",
          "Chicago, IL, Temp: 51.4",
          "Columbus, OH, Temp: 53.0",
          "Dallas, TX, Temp: 66.2",
          "Denver, CO, Temp: 50.7",
          "Detroit, MI, Temp: 50.0",
          "El Paso, TX, Temp: 64.6",
          "Fairbanks, AK, Temp: 27.9",
          "Houston, TX, Temp: 69.4",
          "Indianapolis, IN, Temp: 53.2",
          "Jacksonville, FL, Temp: 68.5",
          "Kansas City, MO, Temp: 54.5",
          "Las Vegas, NV, Temp: 68.5",
          "Los Angeles, CA, Temp: 63.3",
          "Louisville, KY, Temp: 57.1",
          "Memphis, TN, Temp: 63.0",
          "Miami, FL, Temp: 76.9",
          "Milwaukee, WI, Temp: 48.1",
          "Minneapolis, MN, Temp: 46.1",
          "Nashville, TN, Temp: 59.8",
          "New Orleans, LA, Temp: 69.2",
          "New York City, NY, Temp: 55.3",
          "Oklahoma City, OK, Temp: 60.6",
          "Omaha, NE, Temp: 51.1",
          "Philadelphia, PA , Temp: 55.8",
          "Phoenix, AZ, Temp: 75.0",
          "Pittsburgh, PA, Temp: 51.4",
          "Portland, OR, Temp: 54.4",
          "Sacramento, CA, Temp: 61.3",
          "Salt Lake City, UT, Temp: 52.9",
          "San Antonio, TX, Temp: 69.5",
          "San Diego, CA, Temp: 64.1",
          "San Francisco, CA, Temp: 58.2",
          "Seattle, WA, Temp: 52.4",
          "St. Louis, MO, Temp: 57.0",
          "Tampa, FL, Temp: 73.2",
          "Tucson, AZ, Temp: 69.7",
          "Virginia Beach, VA, Temp: 60.5",
          "Wichita, KS, Temp: 57.0"
         ],
         "type": "scattergeo"
        }
       ],
       "layout": {
        "geo": {
         "scope": "usa"
        },
        "template": {
         "data": {
          "bar": [
           {
            "error_x": {
             "color": "#2a3f5f"
            },
            "error_y": {
             "color": "#2a3f5f"
            },
            "marker": {
             "line": {
              "color": "#E5ECF6",
              "width": 0.5
             }
            },
            "type": "bar"
           }
          ],
          "barpolar": [
           {
            "marker": {
             "line": {
              "color": "#E5ECF6",
              "width": 0.5
             }
            },
            "type": "barpolar"
           }
          ],
          "carpet": [
           {
            "aaxis": {
             "endlinecolor": "#2a3f5f",
             "gridcolor": "white",
             "linecolor": "white",
             "minorgridcolor": "white",
             "startlinecolor": "#2a3f5f"
            },
            "baxis": {
             "endlinecolor": "#2a3f5f",
             "gridcolor": "white",
             "linecolor": "white",
             "minorgridcolor": "white",
             "startlinecolor": "#2a3f5f"
            },
            "type": "carpet"
           }
          ],
          "choropleth": [
           {
            "colorbar": {
             "outlinewidth": 0,
             "ticks": ""
            },
            "type": "choropleth"
           }
          ],
          "contour": [
           {
            "colorbar": {
             "outlinewidth": 0,
             "ticks": ""
            },
            "colorscale": [
             [
              0,
              "#0d0887"
             ],
             [
              0.1111111111111111,
              "#46039f"
             ],
             [
              0.2222222222222222,
              "#7201a8"
             ],
             [
              0.3333333333333333,
              "#9c179e"
             ],
             [
              0.4444444444444444,
              "#bd3786"
             ],
             [
              0.5555555555555556,
              "#d8576b"
             ],
             [
              0.6666666666666666,
              "#ed7953"
             ],
             [
              0.7777777777777778,
              "#fb9f3a"
             ],
             [
              0.8888888888888888,
              "#fdca26"
             ],
             [
              1,
              "#f0f921"
             ]
            ],
            "type": "contour"
           }
          ],
          "contourcarpet": [
           {
            "colorbar": {
             "outlinewidth": 0,
             "ticks": ""
            },
            "type": "contourcarpet"
           }
          ],
          "heatmap": [
           {
            "colorbar": {
             "outlinewidth": 0,
             "ticks": ""
            },
            "colorscale": [
             [
              0,
              "#0d0887"
             ],
             [
              0.1111111111111111,
              "#46039f"
             ],
             [
              0.2222222222222222,
              "#7201a8"
             ],
             [
              0.3333333333333333,
              "#9c179e"
             ],
             [
              0.4444444444444444,
              "#bd3786"
             ],
             [
              0.5555555555555556,
              "#d8576b"
             ],
             [
              0.6666666666666666,
              "#ed7953"
             ],
             [
              0.7777777777777778,
              "#fb9f3a"
             ],
             [
              0.8888888888888888,
              "#fdca26"
             ],
             [
              1,
              "#f0f921"
             ]
            ],
            "type": "heatmap"
           }
          ],
          "heatmapgl": [
           {
            "colorbar": {
             "outlinewidth": 0,
             "ticks": ""
            },
            "colorscale": [
             [
              0,
              "#0d0887"
             ],
             [
              0.1111111111111111,
              "#46039f"
             ],
             [
              0.2222222222222222,
              "#7201a8"
             ],
             [
              0.3333333333333333,
              "#9c179e"
             ],
             [
              0.4444444444444444,
              "#bd3786"
             ],
             [
              0.5555555555555556,
              "#d8576b"
             ],
             [
              0.6666666666666666,
              "#ed7953"
             ],
             [
              0.7777777777777778,
              "#fb9f3a"
             ],
             [
              0.8888888888888888,
              "#fdca26"
             ],
             [
              1,
              "#f0f921"
             ]
            ],
            "type": "heatmapgl"
           }
          ],
          "histogram": [
           {
            "marker": {
             "colorbar": {
              "outlinewidth": 0,
              "ticks": ""
             }
            },
            "type": "histogram"
           }
          ],
          "histogram2d": [
           {
            "colorbar": {
             "outlinewidth": 0,
             "ticks": ""
            },
            "colorscale": [
             [
              0,
              "#0d0887"
             ],
             [
              0.1111111111111111,
              "#46039f"
             ],
             [
              0.2222222222222222,
              "#7201a8"
             ],
             [
              0.3333333333333333,
              "#9c179e"
             ],
             [
              0.4444444444444444,
              "#bd3786"
             ],
             [
              0.5555555555555556,
              "#d8576b"
             ],
             [
              0.6666666666666666,
              "#ed7953"
             ],
             [
              0.7777777777777778,
              "#fb9f3a"
             ],
             [
              0.8888888888888888,
              "#fdca26"
             ],
             [
              1,
              "#f0f921"
             ]
            ],
            "type": "histogram2d"
           }
          ],
          "histogram2dcontour": [
           {
            "colorbar": {
             "outlinewidth": 0,
             "ticks": ""
            },
            "colorscale": [
             [
              0,
              "#0d0887"
             ],
             [
              0.1111111111111111,
              "#46039f"
             ],
             [
              0.2222222222222222,
              "#7201a8"
             ],
             [
              0.3333333333333333,
              "#9c179e"
             ],
             [
              0.4444444444444444,
              "#bd3786"
             ],
             [
              0.5555555555555556,
              "#d8576b"
             ],
             [
              0.6666666666666666,
              "#ed7953"
             ],
             [
              0.7777777777777778,
              "#fb9f3a"
             ],
             [
              0.8888888888888888,
              "#fdca26"
             ],
             [
              1,
              "#f0f921"
             ]
            ],
            "type": "histogram2dcontour"
           }
          ],
          "mesh3d": [
           {
            "colorbar": {
             "outlinewidth": 0,
             "ticks": ""
            },
            "type": "mesh3d"
           }
          ],
          "parcoords": [
           {
            "line": {
             "colorbar": {
              "outlinewidth": 0,
              "ticks": ""
             }
            },
            "type": "parcoords"
           }
          ],
          "pie": [
           {
            "automargin": true,
            "type": "pie"
           }
          ],
          "scatter": [
           {
            "marker": {
             "colorbar": {
              "outlinewidth": 0,
              "ticks": ""
             }
            },
            "type": "scatter"
           }
          ],
          "scatter3d": [
           {
            "line": {
             "colorbar": {
              "outlinewidth": 0,
              "ticks": ""
             }
            },
            "marker": {
             "colorbar": {
              "outlinewidth": 0,
              "ticks": ""
             }
            },
            "type": "scatter3d"
           }
          ],
          "scattercarpet": [
           {
            "marker": {
             "colorbar": {
              "outlinewidth": 0,
              "ticks": ""
             }
            },
            "type": "scattercarpet"
           }
          ],
          "scattergeo": [
           {
            "marker": {
             "colorbar": {
              "outlinewidth": 0,
              "ticks": ""
             }
            },
            "type": "scattergeo"
           }
          ],
          "scattergl": [
           {
            "marker": {
             "colorbar": {
              "outlinewidth": 0,
              "ticks": ""
             }
            },
            "type": "scattergl"
           }
          ],
          "scattermapbox": [
           {
            "marker": {
             "colorbar": {
              "outlinewidth": 0,
              "ticks": ""
             }
            },
            "type": "scattermapbox"
           }
          ],
          "scatterpolar": [
           {
            "marker": {
             "colorbar": {
              "outlinewidth": 0,
              "ticks": ""
             }
            },
            "type": "scatterpolar"
           }
          ],
          "scatterpolargl": [
           {
            "marker": {
             "colorbar": {
              "outlinewidth": 0,
              "ticks": ""
             }
            },
            "type": "scatterpolargl"
           }
          ],
          "scatterternary": [
           {
            "marker": {
             "colorbar": {
              "outlinewidth": 0,
              "ticks": ""
             }
            },
            "type": "scatterternary"
           }
          ],
          "surface": [
           {
            "colorbar": {
             "outlinewidth": 0,
             "ticks": ""
            },
            "colorscale": [
             [
              0,
              "#0d0887"
             ],
             [
              0.1111111111111111,
              "#46039f"
             ],
             [
              0.2222222222222222,
              "#7201a8"
             ],
             [
              0.3333333333333333,
              "#9c179e"
             ],
             [
              0.4444444444444444,
              "#bd3786"
             ],
             [
              0.5555555555555556,
              "#d8576b"
             ],
             [
              0.6666666666666666,
              "#ed7953"
             ],
             [
              0.7777777777777778,
              "#fb9f3a"
             ],
             [
              0.8888888888888888,
              "#fdca26"
             ],
             [
              1,
              "#f0f921"
             ]
            ],
            "type": "surface"
           }
          ],
          "table": [
           {
            "cells": {
             "fill": {
              "color": "#EBF0F8"
             },
             "line": {
              "color": "white"
             }
            },
            "header": {
             "fill": {
              "color": "#C8D4E3"
             },
             "line": {
              "color": "white"
             }
            },
            "type": "table"
           }
          ]
         },
         "layout": {
          "annotationdefaults": {
           "arrowcolor": "#2a3f5f",
           "arrowhead": 0,
           "arrowwidth": 1
          },
          "coloraxis": {
           "colorbar": {
            "outlinewidth": 0,
            "ticks": ""
           }
          },
          "colorscale": {
           "diverging": [
            [
             0,
             "#8e0152"
            ],
            [
             0.1,
             "#c51b7d"
            ],
            [
             0.2,
             "#de77ae"
            ],
            [
             0.3,
             "#f1b6da"
            ],
            [
             0.4,
             "#fde0ef"
            ],
            [
             0.5,
             "#f7f7f7"
            ],
            [
             0.6,
             "#e6f5d0"
            ],
            [
             0.7,
             "#b8e186"
            ],
            [
             0.8,
             "#7fbc41"
            ],
            [
             0.9,
             "#4d9221"
            ],
            [
             1,
             "#276419"
            ]
           ],
           "sequential": [
            [
             0,
             "#0d0887"
            ],
            [
             0.1111111111111111,
             "#46039f"
            ],
            [
             0.2222222222222222,
             "#7201a8"
            ],
            [
             0.3333333333333333,
             "#9c179e"
            ],
            [
             0.4444444444444444,
             "#bd3786"
            ],
            [
             0.5555555555555556,
             "#d8576b"
            ],
            [
             0.6666666666666666,
             "#ed7953"
            ],
            [
             0.7777777777777778,
             "#fb9f3a"
            ],
            [
             0.8888888888888888,
             "#fdca26"
            ],
            [
             1,
             "#f0f921"
            ]
           ],
           "sequentialminus": [
            [
             0,
             "#0d0887"
            ],
            [
             0.1111111111111111,
             "#46039f"
            ],
            [
             0.2222222222222222,
             "#7201a8"
            ],
            [
             0.3333333333333333,
             "#9c179e"
            ],
            [
             0.4444444444444444,
             "#bd3786"
            ],
            [
             0.5555555555555556,
             "#d8576b"
            ],
            [
             0.6666666666666666,
             "#ed7953"
            ],
            [
             0.7777777777777778,
             "#fb9f3a"
            ],
            [
             0.8888888888888888,
             "#fdca26"
            ],
            [
             1,
             "#f0f921"
            ]
           ]
          },
          "colorway": [
           "#636efa",
           "#EF553B",
           "#00cc96",
           "#ab63fa",
           "#FFA15A",
           "#19d3f3",
           "#FF6692",
           "#B6E880",
           "#FF97FF",
           "#FECB52"
          ],
          "font": {
           "color": "#2a3f5f"
          },
          "geo": {
           "bgcolor": "white",
           "lakecolor": "white",
           "landcolor": "#E5ECF6",
           "showlakes": true,
           "showland": true,
           "subunitcolor": "white"
          },
          "hoverlabel": {
           "align": "left"
          },
          "hovermode": "closest",
          "mapbox": {
           "style": "light"
          },
          "paper_bgcolor": "white",
          "plot_bgcolor": "#E5ECF6",
          "polar": {
           "angularaxis": {
            "gridcolor": "white",
            "linecolor": "white",
            "ticks": ""
           },
           "bgcolor": "#E5ECF6",
           "radialaxis": {
            "gridcolor": "white",
            "linecolor": "white",
            "ticks": ""
           }
          },
          "scene": {
           "xaxis": {
            "backgroundcolor": "#E5ECF6",
            "gridcolor": "white",
            "gridwidth": 2,
            "linecolor": "white",
            "showbackground": true,
            "ticks": "",
            "zerolinecolor": "white"
           },
           "yaxis": {
            "backgroundcolor": "#E5ECF6",
            "gridcolor": "white",
            "gridwidth": 2,
            "linecolor": "white",
            "showbackground": true,
            "ticks": "",
            "zerolinecolor": "white"
           },
           "zaxis": {
            "backgroundcolor": "#E5ECF6",
            "gridcolor": "white",
            "gridwidth": 2,
            "linecolor": "white",
            "showbackground": true,
            "ticks": "",
            "zerolinecolor": "white"
           }
          },
          "shapedefaults": {
           "line": {
            "color": "#2a3f5f"
           }
          },
          "ternary": {
           "aaxis": {
            "gridcolor": "white",
            "linecolor": "white",
            "ticks": ""
           },
           "baxis": {
            "gridcolor": "white",
            "linecolor": "white",
            "ticks": ""
           },
           "bgcolor": "#E5ECF6",
           "caxis": {
            "gridcolor": "white",
            "linecolor": "white",
            "ticks": ""
           }
          },
          "title": {
           "x": 0.05
          },
          "xaxis": {
           "automargin": true,
           "gridcolor": "white",
           "linecolor": "white",
           "ticks": "",
           "title": {
            "standoff": 15
           },
           "zerolinecolor": "white",
           "zerolinewidth": 2
          },
          "yaxis": {
           "automargin": true,
           "gridcolor": "white",
           "linecolor": "white",
           "ticks": "",
           "title": {
            "standoff": 15
           },
           "zerolinecolor": "white",
           "zerolinewidth": 2
          }
         }
        },
        "title": {
         "text": "Temparature at Cities <br> (in USA)"
        }
       }
      },
      "text/html": [
       "<div>\n",
       "        \n",
       "        \n",
       "            <div id=\"b94fdf21-cd61-42b2-be08-479df8bb3873\" class=\"plotly-graph-div\" style=\"height:525px; width:100%;\"></div>\n",
       "            <script type=\"text/javascript\">\n",
       "                require([\"plotly\"], function(Plotly) {\n",
       "                    window.PLOTLYENV=window.PLOTLYENV || {};\n",
       "                    \n",
       "                if (document.getElementById(\"b94fdf21-cd61-42b2-be08-479df8bb3873\")) {\n",
       "                    Plotly.newPlot(\n",
       "                        'b94fdf21-cd61-42b2-be08-479df8bb3873',\n",
       "                        [{\"lat\": [35.0841034, 61.2163129, 33.7490987, 30.2711286, 39.2908816, 43.6166163, 42.3602534, 35.2270869, 41.8755616, 39.9622601, 32.7762719, 39.7348381, 42.3315509, 31.7754152, 64.837845, 29.7589382, 39.7683331, 30.3321838, 39.100105, 36.1672559, 34.0536909, 38.2542376, 35.1490215, 25.7742658, 43.0349931, 44.9772995, 36.1622296, 29.9499323, 40.7127281, 35.4729886, 41.2587459, 39.9527237, 33.4484367, 40.4416941, 45.5202471, 38.5815719, 40.7596198, 29.4246002, 32.7174209, 37.7790262, 47.6038321, 38.6529545, 27.9477595, 32.2228765, 36.8529841, 37.6922361], \"lon\": [-106.6509851, -149.8948523, -84.3901849, -97.7436995, -76.610759, -116.200886, -71.0582912, -80.8431268, -87.6244212, -83.0007065, -96.7968559, -104.9653271, -83.0466403, -106.4646348, -147.716675, -95.3676974, -86.1583502, -81.655651, -94.5781416, -115.1485163, -118.2427666, -85.759407, -90.0516285, -80.1936589, -87.922497, -93.2654692, -86.7743531, -90.0701156, -74.0060152, -97.5170536, -95.9383758, -75.1635262, -112.0741417, -79.9900861, -122.6741949, -121.4943996, -111.8867975, -98.4951405, -117.1627714, -122.4199061, -122.3300624, -90.24111656024635, -82.458444, -110.9748477, -75.9774183, -97.3375448], \"marker\": {\"cmax\": 76.9, \"cmin\": 27.9, \"color\": [57.2, 37.1, 62.3, 69.3, 55.6, 52.5, 51.7, 60.9, 51.4, 53.0, 66.2, 50.7, 50.0, 64.6, 27.9, 69.4, 53.2, 68.5, 54.5, 68.5, 63.3, 57.1, 63.0, 76.9, 48.1, 46.1, 59.8, 69.2, 55.3, 60.6, 51.1, 55.8, 75.0, 51.4, 54.4, 61.3, 52.9, 69.5, 64.1, 58.2, 52.4, 57.0, 73.2, 69.7, 60.5, 57.0], \"colorbar\": {\"title\": {\"text\": \"Temperate Indicator\"}}, \"colorscale\": [[0.0, \"rgb(165,0,38)\"], [0.1, \"rgb(215,48,39)\"], [0.2, \"rgb(244,109,67)\"], [0.3, \"rgb(253,174,97)\"], [0.4, \"rgb(254,224,144)\"], [0.5, \"rgb(255,255,191)\"], [0.6, \"rgb(224,243,248)\"], [0.7, \"rgb(171,217,233)\"], [0.8, \"rgb(116,173,209)\"], [0.9, \"rgb(69,117,180)\"], [1.0, \"rgb(49,54,149)\"]], \"opacity\": 1, \"reversescale\": true, \"size\": [19.066666666666666, 12.366666666666667, 20.766666666666666, 23.099999999999998, 18.533333333333335, 17.5, 17.233333333333334, 20.3, 17.133333333333333, 17.666666666666668, 22.066666666666666, 16.900000000000002, 16.666666666666668, 21.53333333333333, 9.299999999999999, 23.133333333333336, 17.733333333333334, 22.833333333333332, 18.166666666666668, 22.833333333333332, 21.099999999999998, 19.033333333333335, 21.0, 25.633333333333336, 16.033333333333335, 15.366666666666667, 19.933333333333334, 23.066666666666666, 18.433333333333334, 20.2, 17.033333333333335, 18.599999999999998, 25.0, 17.133333333333333, 18.133333333333333, 20.433333333333334, 17.633333333333333, 23.166666666666668, 21.366666666666664, 19.400000000000002, 17.466666666666665, 19.0, 24.400000000000002, 23.233333333333334, 20.166666666666668, 19.0], \"symbol\": \"circle\"}, \"text\": [\"Albuquerque, NM, Temp: 57.2\", \"Anchorage, AK, Temp: 37.1\", \"Atlanta, GA, Temp: 62.3\", \"Austin, TX, Temp: 69.3\", \"Baltimore, MD, Temp: 55.6\", \"Boise, ID, Temp: 52.5\", \"Boston, MA, Temp: 51.7\", \"Charlotte, NC, Temp: 60.9\", \"Chicago, IL, Temp: 51.4\", \"Columbus, OH, Temp: 53.0\", \"Dallas, TX, Temp: 66.2\", \"Denver, CO, Temp: 50.7\", \"Detroit, MI, Temp: 50.0\", \"El Paso, TX, Temp: 64.6\", \"Fairbanks, AK, Temp: 27.9\", \"Houston, TX, Temp: 69.4\", \"Indianapolis, IN, Temp: 53.2\", \"Jacksonville, FL, Temp: 68.5\", \"Kansas City, MO, Temp: 54.5\", \"Las Vegas, NV, Temp: 68.5\", \"Los Angeles, CA, Temp: 63.3\", \"Louisville, KY, Temp: 57.1\", \"Memphis, TN, Temp: 63.0\", \"Miami, FL, Temp: 76.9\", \"Milwaukee, WI, Temp: 48.1\", \"Minneapolis, MN, Temp: 46.1\", \"Nashville, TN, Temp: 59.8\", \"New Orleans, LA, Temp: 69.2\", \"New York City, NY, Temp: 55.3\", \"Oklahoma City, OK, Temp: 60.6\", \"Omaha, NE, Temp: 51.1\", \"Philadelphia, PA , Temp: 55.8\", \"Phoenix, AZ, Temp: 75.0\", \"Pittsburgh, PA, Temp: 51.4\", \"Portland, OR, Temp: 54.4\", \"Sacramento, CA, Temp: 61.3\", \"Salt Lake City, UT, Temp: 52.9\", \"San Antonio, TX, Temp: 69.5\", \"San Diego, CA, Temp: 64.1\", \"San Francisco, CA, Temp: 58.2\", \"Seattle, WA, Temp: 52.4\", \"St. Louis, MO, Temp: 57.0\", \"Tampa, FL, Temp: 73.2\", \"Tucson, AZ, Temp: 69.7\", \"Virginia Beach, VA, Temp: 60.5\", \"Wichita, KS, Temp: 57.0\"], \"type\": \"scattergeo\"}],\n",
       "                        {\"geo\": {\"scope\": \"usa\"}, \"template\": {\"data\": {\"bar\": [{\"error_x\": {\"color\": \"#2a3f5f\"}, \"error_y\": {\"color\": \"#2a3f5f\"}, \"marker\": {\"line\": {\"color\": \"#E5ECF6\", \"width\": 0.5}}, \"type\": \"bar\"}], \"barpolar\": [{\"marker\": {\"line\": {\"color\": \"#E5ECF6\", \"width\": 0.5}}, \"type\": \"barpolar\"}], \"carpet\": [{\"aaxis\": {\"endlinecolor\": \"#2a3f5f\", \"gridcolor\": \"white\", \"linecolor\": \"white\", \"minorgridcolor\": \"white\", \"startlinecolor\": \"#2a3f5f\"}, \"baxis\": {\"endlinecolor\": \"#2a3f5f\", \"gridcolor\": \"white\", \"linecolor\": \"white\", \"minorgridcolor\": \"white\", \"startlinecolor\": \"#2a3f5f\"}, \"type\": \"carpet\"}], \"choropleth\": [{\"colorbar\": {\"outlinewidth\": 0, \"ticks\": \"\"}, \"type\": \"choropleth\"}], \"contour\": [{\"colorbar\": {\"outlinewidth\": 0, \"ticks\": \"\"}, \"colorscale\": [[0.0, \"#0d0887\"], [0.1111111111111111, \"#46039f\"], [0.2222222222222222, \"#7201a8\"], [0.3333333333333333, \"#9c179e\"], [0.4444444444444444, \"#bd3786\"], [0.5555555555555556, \"#d8576b\"], [0.6666666666666666, \"#ed7953\"], [0.7777777777777778, \"#fb9f3a\"], [0.8888888888888888, \"#fdca26\"], [1.0, \"#f0f921\"]], \"type\": \"contour\"}], \"contourcarpet\": [{\"colorbar\": {\"outlinewidth\": 0, \"ticks\": \"\"}, \"type\": \"contourcarpet\"}], \"heatmap\": [{\"colorbar\": {\"outlinewidth\": 0, \"ticks\": \"\"}, \"colorscale\": [[0.0, \"#0d0887\"], [0.1111111111111111, \"#46039f\"], [0.2222222222222222, \"#7201a8\"], [0.3333333333333333, \"#9c179e\"], [0.4444444444444444, \"#bd3786\"], [0.5555555555555556, \"#d8576b\"], [0.6666666666666666, \"#ed7953\"], [0.7777777777777778, \"#fb9f3a\"], [0.8888888888888888, \"#fdca26\"], [1.0, \"#f0f921\"]], \"type\": \"heatmap\"}], \"heatmapgl\": [{\"colorbar\": {\"outlinewidth\": 0, \"ticks\": \"\"}, \"colorscale\": [[0.0, \"#0d0887\"], [0.1111111111111111, \"#46039f\"], [0.2222222222222222, \"#7201a8\"], [0.3333333333333333, \"#9c179e\"], [0.4444444444444444, \"#bd3786\"], [0.5555555555555556, \"#d8576b\"], [0.6666666666666666, \"#ed7953\"], [0.7777777777777778, \"#fb9f3a\"], [0.8888888888888888, \"#fdca26\"], [1.0, \"#f0f921\"]], \"type\": \"heatmapgl\"}], \"histogram\": [{\"marker\": {\"colorbar\": {\"outlinewidth\": 0, \"ticks\": \"\"}}, \"type\": \"histogram\"}], \"histogram2d\": [{\"colorbar\": {\"outlinewidth\": 0, \"ticks\": \"\"}, \"colorscale\": [[0.0, \"#0d0887\"], [0.1111111111111111, \"#46039f\"], [0.2222222222222222, \"#7201a8\"], [0.3333333333333333, \"#9c179e\"], [0.4444444444444444, \"#bd3786\"], [0.5555555555555556, \"#d8576b\"], [0.6666666666666666, \"#ed7953\"], [0.7777777777777778, \"#fb9f3a\"], [0.8888888888888888, \"#fdca26\"], [1.0, \"#f0f921\"]], \"type\": \"histogram2d\"}], \"histogram2dcontour\": [{\"colorbar\": {\"outlinewidth\": 0, \"ticks\": \"\"}, \"colorscale\": [[0.0, \"#0d0887\"], [0.1111111111111111, \"#46039f\"], [0.2222222222222222, \"#7201a8\"], [0.3333333333333333, \"#9c179e\"], [0.4444444444444444, \"#bd3786\"], [0.5555555555555556, \"#d8576b\"], [0.6666666666666666, \"#ed7953\"], [0.7777777777777778, \"#fb9f3a\"], [0.8888888888888888, \"#fdca26\"], [1.0, \"#f0f921\"]], \"type\": \"histogram2dcontour\"}], \"mesh3d\": [{\"colorbar\": {\"outlinewidth\": 0, \"ticks\": \"\"}, \"type\": \"mesh3d\"}], \"parcoords\": [{\"line\": {\"colorbar\": {\"outlinewidth\": 0, \"ticks\": \"\"}}, \"type\": \"parcoords\"}], \"pie\": [{\"automargin\": true, \"type\": \"pie\"}], \"scatter\": [{\"marker\": {\"colorbar\": {\"outlinewidth\": 0, \"ticks\": \"\"}}, \"type\": \"scatter\"}], \"scatter3d\": [{\"line\": {\"colorbar\": {\"outlinewidth\": 0, \"ticks\": \"\"}}, \"marker\": {\"colorbar\": {\"outlinewidth\": 0, \"ticks\": \"\"}}, \"type\": \"scatter3d\"}], \"scattercarpet\": [{\"marker\": {\"colorbar\": {\"outlinewidth\": 0, \"ticks\": \"\"}}, \"type\": \"scattercarpet\"}], \"scattergeo\": [{\"marker\": {\"colorbar\": {\"outlinewidth\": 0, \"ticks\": \"\"}}, \"type\": \"scattergeo\"}], \"scattergl\": [{\"marker\": {\"colorbar\": {\"outlinewidth\": 0, \"ticks\": \"\"}}, \"type\": \"scattergl\"}], \"scattermapbox\": [{\"marker\": {\"colorbar\": {\"outlinewidth\": 0, \"ticks\": \"\"}}, \"type\": \"scattermapbox\"}], \"scatterpolar\": [{\"marker\": {\"colorbar\": {\"outlinewidth\": 0, \"ticks\": \"\"}}, \"type\": \"scatterpolar\"}], \"scatterpolargl\": [{\"marker\": {\"colorbar\": {\"outlinewidth\": 0, \"ticks\": \"\"}}, \"type\": \"scatterpolargl\"}], \"scatterternary\": [{\"marker\": {\"colorbar\": {\"outlinewidth\": 0, \"ticks\": \"\"}}, \"type\": \"scatterternary\"}], \"surface\": [{\"colorbar\": {\"outlinewidth\": 0, \"ticks\": \"\"}, \"colorscale\": [[0.0, \"#0d0887\"], [0.1111111111111111, \"#46039f\"], [0.2222222222222222, \"#7201a8\"], [0.3333333333333333, \"#9c179e\"], [0.4444444444444444, \"#bd3786\"], [0.5555555555555556, \"#d8576b\"], [0.6666666666666666, \"#ed7953\"], [0.7777777777777778, \"#fb9f3a\"], [0.8888888888888888, \"#fdca26\"], [1.0, \"#f0f921\"]], \"type\": \"surface\"}], \"table\": [{\"cells\": {\"fill\": {\"color\": \"#EBF0F8\"}, \"line\": {\"color\": \"white\"}}, \"header\": {\"fill\": {\"color\": \"#C8D4E3\"}, \"line\": {\"color\": \"white\"}}, \"type\": \"table\"}]}, \"layout\": {\"annotationdefaults\": {\"arrowcolor\": \"#2a3f5f\", \"arrowhead\": 0, \"arrowwidth\": 1}, \"coloraxis\": {\"colorbar\": {\"outlinewidth\": 0, \"ticks\": \"\"}}, \"colorscale\": {\"diverging\": [[0, \"#8e0152\"], [0.1, \"#c51b7d\"], [0.2, \"#de77ae\"], [0.3, \"#f1b6da\"], [0.4, \"#fde0ef\"], [0.5, \"#f7f7f7\"], [0.6, \"#e6f5d0\"], [0.7, \"#b8e186\"], [0.8, \"#7fbc41\"], [0.9, \"#4d9221\"], [1, \"#276419\"]], \"sequential\": [[0.0, \"#0d0887\"], [0.1111111111111111, \"#46039f\"], [0.2222222222222222, \"#7201a8\"], [0.3333333333333333, \"#9c179e\"], [0.4444444444444444, \"#bd3786\"], [0.5555555555555556, \"#d8576b\"], [0.6666666666666666, \"#ed7953\"], [0.7777777777777778, \"#fb9f3a\"], [0.8888888888888888, \"#fdca26\"], [1.0, \"#f0f921\"]], \"sequentialminus\": [[0.0, \"#0d0887\"], [0.1111111111111111, \"#46039f\"], [0.2222222222222222, \"#7201a8\"], [0.3333333333333333, \"#9c179e\"], [0.4444444444444444, \"#bd3786\"], [0.5555555555555556, \"#d8576b\"], [0.6666666666666666, \"#ed7953\"], [0.7777777777777778, \"#fb9f3a\"], [0.8888888888888888, \"#fdca26\"], [1.0, \"#f0f921\"]]}, \"colorway\": [\"#636efa\", \"#EF553B\", \"#00cc96\", \"#ab63fa\", \"#FFA15A\", \"#19d3f3\", \"#FF6692\", \"#B6E880\", \"#FF97FF\", \"#FECB52\"], \"font\": {\"color\": \"#2a3f5f\"}, \"geo\": {\"bgcolor\": \"white\", \"lakecolor\": \"white\", \"landcolor\": \"#E5ECF6\", \"showlakes\": true, \"showland\": true, \"subunitcolor\": \"white\"}, \"hoverlabel\": {\"align\": \"left\"}, \"hovermode\": \"closest\", \"mapbox\": {\"style\": \"light\"}, \"paper_bgcolor\": \"white\", \"plot_bgcolor\": \"#E5ECF6\", \"polar\": {\"angularaxis\": {\"gridcolor\": \"white\", \"linecolor\": \"white\", \"ticks\": \"\"}, \"bgcolor\": \"#E5ECF6\", \"radialaxis\": {\"gridcolor\": \"white\", \"linecolor\": \"white\", \"ticks\": \"\"}}, \"scene\": {\"xaxis\": {\"backgroundcolor\": \"#E5ECF6\", \"gridcolor\": \"white\", \"gridwidth\": 2, \"linecolor\": \"white\", \"showbackground\": true, \"ticks\": \"\", \"zerolinecolor\": \"white\"}, \"yaxis\": {\"backgroundcolor\": \"#E5ECF6\", \"gridcolor\": \"white\", \"gridwidth\": 2, \"linecolor\": \"white\", \"showbackground\": true, \"ticks\": \"\", \"zerolinecolor\": \"white\"}, \"zaxis\": {\"backgroundcolor\": \"#E5ECF6\", \"gridcolor\": \"white\", \"gridwidth\": 2, \"linecolor\": \"white\", \"showbackground\": true, \"ticks\": \"\", \"zerolinecolor\": \"white\"}}, \"shapedefaults\": {\"line\": {\"color\": \"#2a3f5f\"}}, \"ternary\": {\"aaxis\": {\"gridcolor\": \"white\", \"linecolor\": \"white\", \"ticks\": \"\"}, \"baxis\": {\"gridcolor\": \"white\", \"linecolor\": \"white\", \"ticks\": \"\"}, \"bgcolor\": \"#E5ECF6\", \"caxis\": {\"gridcolor\": \"white\", \"linecolor\": \"white\", \"ticks\": \"\"}}, \"title\": {\"x\": 0.05}, \"xaxis\": {\"automargin\": true, \"gridcolor\": \"white\", \"linecolor\": \"white\", \"ticks\": \"\", \"title\": {\"standoff\": 15}, \"zerolinecolor\": \"white\", \"zerolinewidth\": 2}, \"yaxis\": {\"automargin\": true, \"gridcolor\": \"white\", \"linecolor\": \"white\", \"ticks\": \"\", \"title\": {\"standoff\": 15}, \"zerolinecolor\": \"white\", \"zerolinewidth\": 2}}}, \"title\": {\"text\": \"Temparature at Cities <br> (in USA)\"}},\n",
       "                        {\"responsive\": true}\n",
       "                    ).then(function(){\n",
       "                            \n",
       "var gd = document.getElementById('b94fdf21-cd61-42b2-be08-479df8bb3873');\n",
       "var x = new MutationObserver(function (mutations, observer) {{\n",
       "        var display = window.getComputedStyle(gd).display;\n",
       "        if (!display || display === 'none') {{\n",
       "            console.log([gd, 'removed!']);\n",
       "            Plotly.purge(gd);\n",
       "            observer.disconnect();\n",
       "        }}\n",
       "}});\n",
       "\n",
       "// Listen for the removal of the full notebook cells\n",
       "var notebookContainer = gd.closest('#notebook-container');\n",
       "if (notebookContainer) {{\n",
       "    x.observe(notebookContainer, {childList: true});\n",
       "}}\n",
       "\n",
       "// Listen for the clearing of the current output cell\n",
       "var outputEl = gd.closest('.output');\n",
       "if (outputEl) {{\n",
       "    x.observe(outputEl, {childList: true});\n",
       "}}\n",
       "\n",
       "                        })\n",
       "                };\n",
       "                });\n",
       "            </script>\n",
       "        </div>"
      ]
     },
     "metadata": {},
     "output_type": "display_data"
    }
   ],
   "source": [
    "import plotly.graph_objects as go\n",
    "\n",
    "#make text format shown in fig\n",
    "df['text'] = df['City'] + ', ' + df['State'] + ', ' +'Temp: '+df['Avg Temp [degrees F]'].astype(str)\n",
    "\n",
    "fig = go.Figure(data=go.Scattergeo(\n",
    "        lon = df['longitude'],\n",
    "        lat = df['latitude'],\n",
    "        text = df['text'],\n",
    "        marker = dict(\n",
    "            color = df['Avg Temp [degrees F]'], #color\n",
    "            colorscale = 'RdYlBu', #color scale btw blue and red\n",
    "            size = df['Avg Temp [degrees F]']/3, #plot scale\n",
    "            opacity = 1, #transparency parameter\n",
    "            reversescale = True, #make low degree as blue, high degree as red\n",
    "            symbol = 'circle', #circle\n",
    "            cmin = df['Avg Temp [degrees F]'].min(), #color min\n",
    "            cmax = df['Avg Temp [degrees F]'].max(), #color max\n",
    "            colorbar_title=\"Temperate Indicator\")\n",
    "        ))\n",
    "\n",
    "fig.update_layout(\n",
    "        title = 'Temparature at Cities <br> (in USA)',\n",
    "        geo_scope='usa',#only show USA map\n",
    "    )\n",
    "fig.show()"
   ]
  }
 ],
 "metadata": {
  "kernelspec": {
   "display_name": "Python 3",
   "language": "python",
   "name": "python3"
  },
  "language_info": {
   "codemirror_mode": {
    "name": "ipython",
    "version": 3
   },
   "file_extension": ".py",
   "mimetype": "text/x-python",
   "name": "python",
   "nbconvert_exporter": "python",
   "pygments_lexer": "ipython3",
   "version": "3.7.2"
  }
 },
 "nbformat": 4,
 "nbformat_minor": 2
}
